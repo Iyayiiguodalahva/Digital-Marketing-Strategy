{
 "cells": [
  {
   "cell_type": "markdown",
   "metadata": {},
   "source": [
    "## Library installation"
   ]
  },
  {
   "cell_type": "code",
   "execution_count": 125,
   "metadata": {},
   "outputs": [
    {
     "name": "stdout",
     "output_type": "stream",
     "text": [
      "Requirement already satisfied: spacy in /opt/anaconda3/lib/python3.12/site-packages (3.8.4)\n",
      "Requirement already satisfied: spacy-legacy<3.1.0,>=3.0.11 in /opt/anaconda3/lib/python3.12/site-packages (from spacy) (3.0.12)\n",
      "Requirement already satisfied: spacy-loggers<2.0.0,>=1.0.0 in /opt/anaconda3/lib/python3.12/site-packages (from spacy) (1.0.5)\n",
      "Requirement already satisfied: murmurhash<1.1.0,>=0.28.0 in /opt/anaconda3/lib/python3.12/site-packages (from spacy) (1.0.12)\n",
      "Requirement already satisfied: cymem<2.1.0,>=2.0.2 in /opt/anaconda3/lib/python3.12/site-packages (from spacy) (2.0.11)\n",
      "Requirement already satisfied: preshed<3.1.0,>=3.0.2 in /opt/anaconda3/lib/python3.12/site-packages (from spacy) (3.0.9)\n",
      "Requirement already satisfied: thinc<8.4.0,>=8.3.4 in /opt/anaconda3/lib/python3.12/site-packages (from spacy) (8.3.4)\n",
      "Requirement already satisfied: wasabi<1.2.0,>=0.9.1 in /opt/anaconda3/lib/python3.12/site-packages (from spacy) (1.1.3)\n",
      "Requirement already satisfied: srsly<3.0.0,>=2.4.3 in /opt/anaconda3/lib/python3.12/site-packages (from spacy) (2.5.1)\n",
      "Requirement already satisfied: catalogue<2.1.0,>=2.0.6 in /opt/anaconda3/lib/python3.12/site-packages (from spacy) (2.0.10)\n",
      "Requirement already satisfied: weasel<0.5.0,>=0.1.0 in /opt/anaconda3/lib/python3.12/site-packages (from spacy) (0.4.1)\n",
      "Requirement already satisfied: typer<1.0.0,>=0.3.0 in /opt/anaconda3/lib/python3.12/site-packages (from spacy) (0.9.0)\n",
      "Requirement already satisfied: tqdm<5.0.0,>=4.38.0 in /opt/anaconda3/lib/python3.12/site-packages (from spacy) (4.66.5)\n",
      "Requirement already satisfied: numpy>=1.19.0 in /opt/anaconda3/lib/python3.12/site-packages (from spacy) (1.26.4)\n",
      "Requirement already satisfied: requests<3.0.0,>=2.13.0 in /opt/anaconda3/lib/python3.12/site-packages (from spacy) (2.32.3)\n",
      "Requirement already satisfied: pydantic!=1.8,!=1.8.1,<3.0.0,>=1.7.4 in /opt/anaconda3/lib/python3.12/site-packages (from spacy) (2.8.2)\n",
      "Requirement already satisfied: jinja2 in /opt/anaconda3/lib/python3.12/site-packages (from spacy) (3.1.4)\n",
      "Requirement already satisfied: setuptools in /opt/anaconda3/lib/python3.12/site-packages (from spacy) (75.1.0)\n",
      "Requirement already satisfied: packaging>=20.0 in /opt/anaconda3/lib/python3.12/site-packages (from spacy) (24.1)\n",
      "Requirement already satisfied: langcodes<4.0.0,>=3.2.0 in /opt/anaconda3/lib/python3.12/site-packages (from spacy) (3.5.0)\n",
      "Requirement already satisfied: language-data>=1.2 in /opt/anaconda3/lib/python3.12/site-packages (from langcodes<4.0.0,>=3.2.0->spacy) (1.3.0)\n",
      "Requirement already satisfied: annotated-types>=0.4.0 in /opt/anaconda3/lib/python3.12/site-packages (from pydantic!=1.8,!=1.8.1,<3.0.0,>=1.7.4->spacy) (0.6.0)\n",
      "Requirement already satisfied: pydantic-core==2.20.1 in /opt/anaconda3/lib/python3.12/site-packages (from pydantic!=1.8,!=1.8.1,<3.0.0,>=1.7.4->spacy) (2.20.1)\n",
      "Requirement already satisfied: typing-extensions>=4.6.1 in /opt/anaconda3/lib/python3.12/site-packages (from pydantic!=1.8,!=1.8.1,<3.0.0,>=1.7.4->spacy) (4.11.0)\n",
      "Requirement already satisfied: charset-normalizer<4,>=2 in /opt/anaconda3/lib/python3.12/site-packages (from requests<3.0.0,>=2.13.0->spacy) (3.3.2)\n",
      "Requirement already satisfied: idna<4,>=2.5 in /opt/anaconda3/lib/python3.12/site-packages (from requests<3.0.0,>=2.13.0->spacy) (3.7)\n",
      "Requirement already satisfied: urllib3<3,>=1.21.1 in /opt/anaconda3/lib/python3.12/site-packages (from requests<3.0.0,>=2.13.0->spacy) (2.2.3)\n",
      "Requirement already satisfied: certifi>=2017.4.17 in /opt/anaconda3/lib/python3.12/site-packages (from requests<3.0.0,>=2.13.0->spacy) (2024.12.14)\n",
      "Requirement already satisfied: blis<1.3.0,>=1.2.0 in /opt/anaconda3/lib/python3.12/site-packages (from thinc<8.4.0,>=8.3.4->spacy) (1.2.0)\n",
      "Requirement already satisfied: confection<1.0.0,>=0.0.1 in /opt/anaconda3/lib/python3.12/site-packages (from thinc<8.4.0,>=8.3.4->spacy) (0.1.5)\n",
      "Requirement already satisfied: click<9.0.0,>=7.1.1 in /opt/anaconda3/lib/python3.12/site-packages (from typer<1.0.0,>=0.3.0->spacy) (8.1.7)\n",
      "Requirement already satisfied: cloudpathlib<1.0.0,>=0.7.0 in /opt/anaconda3/lib/python3.12/site-packages (from weasel<0.5.0,>=0.1.0->spacy) (0.21.0)\n",
      "Requirement already satisfied: smart-open<8.0.0,>=5.2.1 in /opt/anaconda3/lib/python3.12/site-packages (from weasel<0.5.0,>=0.1.0->spacy) (5.2.1)\n",
      "Requirement already satisfied: MarkupSafe>=2.0 in /opt/anaconda3/lib/python3.12/site-packages (from jinja2->spacy) (2.1.3)\n",
      "Requirement already satisfied: marisa-trie>=1.1.0 in /opt/anaconda3/lib/python3.12/site-packages (from language-data>=1.2->langcodes<4.0.0,>=3.2.0->spacy) (1.2.1)\n",
      "Note: you may need to restart the kernel to use updated packages.\n"
     ]
    }
   ],
   "source": [
    "pip install spacy"
   ]
  },
  {
   "cell_type": "code",
   "execution_count": 126,
   "metadata": {},
   "outputs": [],
   "source": [
    "# Import the necessary module\n",
    "from scipy import stats  # Make sure you have this import statement"
   ]
  },
  {
   "cell_type": "code",
   "execution_count": 127,
   "metadata": {},
   "outputs": [],
   "source": [
    "import pandas as pd\n",
    "import re\n",
    "import spacy\n",
    "import matplotlib.pyplot as plt\n",
    "import seaborn as sns\n",
    "from collections import Counter\n",
    "\n"
   ]
  },
  {
   "cell_type": "code",
   "execution_count": 128,
   "metadata": {},
   "outputs": [
    {
     "name": "stdout",
     "output_type": "stream",
     "text": [
      "Collecting en-core-web-sm==3.8.0\n",
      "  Downloading https://github.com/explosion/spacy-models/releases/download/en_core_web_sm-3.8.0/en_core_web_sm-3.8.0-py3-none-any.whl (12.8 MB)\n",
      "\u001b[2K     \u001b[90m━━━━━━━━━━━━━━━━━━━━━━━━━━━━━━━━━━━━━━━━\u001b[0m \u001b[32m12.8/12.8 MB\u001b[0m \u001b[31m46.9 MB/s\u001b[0m eta \u001b[36m0:00:00\u001b[0m \u001b[36m0:00:01\u001b[0m\n",
      "\u001b[?25h\u001b[38;5;2m✔ Download and installation successful\u001b[0m\n",
      "You can now load the package via spacy.load('en_core_web_sm')\n"
     ]
    }
   ],
   "source": [
    "!python -m spacy download en_core_web_sm"
   ]
  },
  {
   "cell_type": "code",
   "execution_count": 129,
   "metadata": {},
   "outputs": [],
   "source": [
    "# Load Spacy's Named Entity Recognition (NER) model\n",
    "nlp = spacy.load(\"en_core_web_sm\")"
   ]
  },
  {
   "cell_type": "markdown",
   "metadata": {},
   "source": [
    "## Loading data"
   ]
  },
  {
   "cell_type": "code",
   "execution_count": 130,
   "metadata": {},
   "outputs": [],
   "source": [
    "Mega = pd.read_excel(r\"/Users/wulandariw/Downloads/Master/Digital Marketing/influencer data/mega influencer new.xlsx\")\n",
    "Macro   = pd.read_excel(r\"/Users/wulandariw/Downloads/Master/Digital Marketing/influencer data/macro new.xlsx\")\n",
    "Micro  = pd.read_excel(r\"/Users/wulandariw/Downloads/Master/Digital Marketing/influencer data/micro (1).xlsx\")"
   ]
  },
  {
   "cell_type": "markdown",
   "metadata": {},
   "source": [
    "# EDA"
   ]
  },
  {
   "cell_type": "markdown",
   "metadata": {},
   "source": [
    "## Renaming Columns and Data cleaning"
   ]
  },
  {
   "cell_type": "code",
   "execution_count": 131,
   "metadata": {},
   "outputs": [],
   "source": [
    "# Rename columns for consistency\n",
    "rename_mapping = {\n",
    "    'Unnamed: 1': 'Date',\n",
    "    'Unnamed: 2': 'Message',\n",
    "    'Unnamed: 3': 'Profile',\n",
    "    'Unnamed: 4': 'Network',\n",
    "    'Unnamed: 5': 'Number of Likes',\n",
    "    'Unnamed: 6': 'Number of Comments',\n",
    "    'Unnamed: 7': 'Reactions',\n",
    "    'Unnamed: 8': 'Post interaction rate',\n",
    "    'Unnamed: 9': 'Reach per post',\n",
    "    'Unnamed: 10': 'Interactions per impression',\n",
    "    'Unnamed: 11': 'Post comments negative sentiment share',\n",
    "    'Unnamed: 12': 'Engagement rate',\n",
    "    'Unnamed: 13': 'Click-through rate (CTR)',\n",
    "    'Unnamed: 14': 'Impressions',\n",
    "    'Unnamed: 15': 'Message-ID',\n",
    "    'Unnamed: 16': 'Profile-ID',\n",
    "    'Unnamed: 17': 'Link',\n",
    "    'Unnamed: 18': 'External Links'\n",
    "}\n",
    "\n",
    "Mega = Mega.rename(columns=rename_mapping)\n",
    "Macro = Macro.rename(columns=rename_mapping)\n",
    "Micro = Micro.rename(columns=rename_mapping)\n"
   ]
  },
  {
   "cell_type": "markdown",
   "metadata": {},
   "source": [
    "## Data Cleaning"
   ]
  },
  {
   "cell_type": "code",
   "execution_count": 132,
   "metadata": {},
   "outputs": [],
   "source": [
    "# Drop irrelevant columns\n",
    "Mega = Mega.drop([col for col in Mega.columns if isinstance(col, str) and col.startswith(\"Unnamed\")], axis=1)\n",
    "Macro   = Macro.drop([col for col in Macro.columns if isinstance(col, str) and col.startswith(\"Unnamed\")], axis=1)\n",
    "Micro  = Micro.drop([col for col in Micro.columns if isinstance(col, str) and col.startswith(\"Unnamed\")], axis=1)"
   ]
  },
  {
   "cell_type": "code",
   "execution_count": 133,
   "metadata": {},
   "outputs": [
    {
     "data": {
      "application/vnd.microsoft.datawrangler.viewer.v0+json": {
       "columns": [
        {
         "name": "index",
         "rawType": "int64",
         "type": "integer"
        },
        {
         "name": "Date",
         "rawType": "datetime64[ns]",
         "type": "datetime"
        },
        {
         "name": "Message",
         "rawType": "object",
         "type": "string"
        },
        {
         "name": "Profile",
         "rawType": "object",
         "type": "string"
        },
        {
         "name": "Network",
         "rawType": "object",
         "type": "string"
        },
        {
         "name": "Number of Likes",
         "rawType": "object",
         "type": "unknown"
        },
        {
         "name": "Number of comments",
         "rawType": "int64",
         "type": "integer"
        },
        {
         "name": "Reactions, Comments & Shares",
         "rawType": "int64",
         "type": "integer"
        },
        {
         "name": "Post interaction rate",
         "rawType": "float64",
         "type": "float"
        },
        {
         "name": "Reach per post",
         "rawType": "object",
         "type": "string"
        },
        {
         "name": "Interactions per impression/view",
         "rawType": "object",
         "type": "string"
        },
        {
         "name": "Post comments negative sentiment share",
         "rawType": "object",
         "type": "string"
        },
        {
         "name": "Engagement",
         "rawType": "float64",
         "type": "float"
        },
        {
         "name": "Click-through rate (CTR)",
         "rawType": "object",
         "type": "string"
        },
        {
         "name": "Impressions/views per post",
         "rawType": "object",
         "type": "string"
        },
        {
         "name": "Message-ID",
         "rawType": "int64",
         "type": "integer"
        },
        {
         "name": "Profile-ID",
         "rawType": "int64",
         "type": "integer"
        },
        {
         "name": "Link",
         "rawType": "object",
         "type": "string"
        },
        {
         "name": "External Links",
         "rawType": "float64",
         "type": "float"
        }
       ],
       "conversionMethod": "pd.DataFrame",
       "ref": "87a121f6-5dbe-43f4-a710-405c89084231",
       "rows": [
        [
         "0",
         "2025-03-10 21:15:03",
         "Obsessed with this cut and style???????? Thank you mauricecornell ????????????\n.\nColor by the amazing tonywonderhandsss\nMakeup by Meeee",
         "patrickstarrr",
         "INSTAGRAM",
         "-",
         "43",
         "43",
         "9.929931631266076e-06",
         "-",
         "-",
         "-",
         "9.929931631266076e-06",
         "-",
         "-",
         "18389368468128400",
         "14816972",
         "https://www.instagram.com/p/DHCJZctyBNA/",
         null
        ],
        [
         "1",
         "2025-03-10 14:00:09",
         "Have you guys guessed yet? Reveal happening March 18th.",
         "HUDA BEAUTY",
         "INSTAGRAM",
         "17983",
         "1692",
         "19675",
         "0.0003462664147219914",
         "-",
         "-",
         "-",
         "0.0003462664147219914",
         "-",
         "-",
         "18059133502858760",
         "44222792",
         "https://www.instagram.com/reel/DHBXjsPz0dr/",
         null
        ],
        [
         "2",
         "2025-03-09 18:25:59",
         "somewhere over the rainbow ??",
         "James Charles",
         "INSTAGRAM",
         "64202",
         "850",
         "65052",
         "0.003190149630826932",
         "-",
         "-",
         "-",
         "0.003190149630826932",
         "-",
         "-",
         "18051092827997980",
         "2153680783",
         "https://www.instagram.com/p/DG_RQOBvDQg/",
         null
        ],
        [
         "3",
         "2025-03-09 18:03:44",
         "donni.davy challenged me to see if the halfmagicbeauty Crystal Butter Lip Balms really ARE the sparkliest, dreamiest balms WITHOUT the grit ??✨ let’s find out together! ?? ( A D )",
         "NikkieTutorials",
         "INSTAGRAM",
         "-",
         "68",
         "68",
         "3.540788477357855e-06",
         "-",
         "-",
         "-",
         "3.540788477357855e-06",
         "-",
         "-",
         "18056592619896872",
         "14081467",
         "https://www.instagram.com/reel/DG_OQHrIKXU/",
         null
        ],
        [
         "4",
         "2025-03-09 15:24:27",
         "Where I wanna be?????? The full circle of it all.",
         "D E S I • P E R K I N S",
         "INSTAGRAM",
         "39582",
         "143",
         "39725",
         "0.009222719208190379",
         "-",
         "-",
         "-",
         "0.009222719208190379",
         "-",
         "-",
         "17943043904842810",
         "3582115",
         "https://www.instagram.com/reel/DG-8MgiJ57N/",
         null
        ]
       ],
       "shape": {
        "columns": 18,
        "rows": 5
       }
      },
      "text/html": [
       "<div>\n",
       "<style scoped>\n",
       "    .dataframe tbody tr th:only-of-type {\n",
       "        vertical-align: middle;\n",
       "    }\n",
       "\n",
       "    .dataframe tbody tr th {\n",
       "        vertical-align: top;\n",
       "    }\n",
       "\n",
       "    .dataframe thead th {\n",
       "        text-align: right;\n",
       "    }\n",
       "</style>\n",
       "<table border=\"1\" class=\"dataframe\">\n",
       "  <thead>\n",
       "    <tr style=\"text-align: right;\">\n",
       "      <th></th>\n",
       "      <th>Date</th>\n",
       "      <th>Message</th>\n",
       "      <th>Profile</th>\n",
       "      <th>Network</th>\n",
       "      <th>Number of Likes</th>\n",
       "      <th>Number of comments</th>\n",
       "      <th>Reactions, Comments &amp; Shares</th>\n",
       "      <th>Post interaction rate</th>\n",
       "      <th>Reach per post</th>\n",
       "      <th>Interactions per impression/view</th>\n",
       "      <th>Post comments negative sentiment share</th>\n",
       "      <th>Engagement</th>\n",
       "      <th>Click-through rate (CTR)</th>\n",
       "      <th>Impressions/views per post</th>\n",
       "      <th>Message-ID</th>\n",
       "      <th>Profile-ID</th>\n",
       "      <th>Link</th>\n",
       "      <th>External Links</th>\n",
       "    </tr>\n",
       "  </thead>\n",
       "  <tbody>\n",
       "    <tr>\n",
       "      <th>0</th>\n",
       "      <td>2025-03-10 21:15:03</td>\n",
       "      <td>Obsessed with this cut and style???????? Thank...</td>\n",
       "      <td>patrickstarrr</td>\n",
       "      <td>INSTAGRAM</td>\n",
       "      <td>-</td>\n",
       "      <td>43</td>\n",
       "      <td>43</td>\n",
       "      <td>0.000010</td>\n",
       "      <td>-</td>\n",
       "      <td>-</td>\n",
       "      <td>-</td>\n",
       "      <td>0.000010</td>\n",
       "      <td>-</td>\n",
       "      <td>-</td>\n",
       "      <td>18389368468128400</td>\n",
       "      <td>14816972</td>\n",
       "      <td>https://www.instagram.com/p/DHCJZctyBNA/</td>\n",
       "      <td>NaN</td>\n",
       "    </tr>\n",
       "    <tr>\n",
       "      <th>1</th>\n",
       "      <td>2025-03-10 14:00:09</td>\n",
       "      <td>Have you guys guessed yet? Reveal happening Ma...</td>\n",
       "      <td>HUDA BEAUTY</td>\n",
       "      <td>INSTAGRAM</td>\n",
       "      <td>17983</td>\n",
       "      <td>1692</td>\n",
       "      <td>19675</td>\n",
       "      <td>0.000346</td>\n",
       "      <td>-</td>\n",
       "      <td>-</td>\n",
       "      <td>-</td>\n",
       "      <td>0.000346</td>\n",
       "      <td>-</td>\n",
       "      <td>-</td>\n",
       "      <td>18059133502858760</td>\n",
       "      <td>44222792</td>\n",
       "      <td>https://www.instagram.com/reel/DHBXjsPz0dr/</td>\n",
       "      <td>NaN</td>\n",
       "    </tr>\n",
       "    <tr>\n",
       "      <th>2</th>\n",
       "      <td>2025-03-09 18:25:59</td>\n",
       "      <td>somewhere over the rainbow ??</td>\n",
       "      <td>James Charles</td>\n",
       "      <td>INSTAGRAM</td>\n",
       "      <td>64202</td>\n",
       "      <td>850</td>\n",
       "      <td>65052</td>\n",
       "      <td>0.003190</td>\n",
       "      <td>-</td>\n",
       "      <td>-</td>\n",
       "      <td>-</td>\n",
       "      <td>0.003190</td>\n",
       "      <td>-</td>\n",
       "      <td>-</td>\n",
       "      <td>18051092827997980</td>\n",
       "      <td>2153680783</td>\n",
       "      <td>https://www.instagram.com/p/DG_RQOBvDQg/</td>\n",
       "      <td>NaN</td>\n",
       "    </tr>\n",
       "    <tr>\n",
       "      <th>3</th>\n",
       "      <td>2025-03-09 18:03:44</td>\n",
       "      <td>donni.davy challenged me to see if the halfmag...</td>\n",
       "      <td>NikkieTutorials</td>\n",
       "      <td>INSTAGRAM</td>\n",
       "      <td>-</td>\n",
       "      <td>68</td>\n",
       "      <td>68</td>\n",
       "      <td>0.000004</td>\n",
       "      <td>-</td>\n",
       "      <td>-</td>\n",
       "      <td>-</td>\n",
       "      <td>0.000004</td>\n",
       "      <td>-</td>\n",
       "      <td>-</td>\n",
       "      <td>18056592619896872</td>\n",
       "      <td>14081467</td>\n",
       "      <td>https://www.instagram.com/reel/DG_OQHrIKXU/</td>\n",
       "      <td>NaN</td>\n",
       "    </tr>\n",
       "    <tr>\n",
       "      <th>4</th>\n",
       "      <td>2025-03-09 15:24:27</td>\n",
       "      <td>Where I wanna be?????? The full circle of it all.</td>\n",
       "      <td>D E S I • P E R K I N S</td>\n",
       "      <td>INSTAGRAM</td>\n",
       "      <td>39582</td>\n",
       "      <td>143</td>\n",
       "      <td>39725</td>\n",
       "      <td>0.009223</td>\n",
       "      <td>-</td>\n",
       "      <td>-</td>\n",
       "      <td>-</td>\n",
       "      <td>0.009223</td>\n",
       "      <td>-</td>\n",
       "      <td>-</td>\n",
       "      <td>17943043904842810</td>\n",
       "      <td>3582115</td>\n",
       "      <td>https://www.instagram.com/reel/DG-8MgiJ57N/</td>\n",
       "      <td>NaN</td>\n",
       "    </tr>\n",
       "  </tbody>\n",
       "</table>\n",
       "</div>"
      ],
      "text/plain": [
       "                 Date                                            Message  \\\n",
       "0 2025-03-10 21:15:03  Obsessed with this cut and style???????? Thank...   \n",
       "1 2025-03-10 14:00:09  Have you guys guessed yet? Reveal happening Ma...   \n",
       "2 2025-03-09 18:25:59                      somewhere over the rainbow ??   \n",
       "3 2025-03-09 18:03:44  donni.davy challenged me to see if the halfmag...   \n",
       "4 2025-03-09 15:24:27  Where I wanna be?????? The full circle of it all.   \n",
       "\n",
       "                   Profile    Network Number of Likes  Number of comments  \\\n",
       "0            patrickstarrr  INSTAGRAM               -                  43   \n",
       "1              HUDA BEAUTY  INSTAGRAM           17983                1692   \n",
       "2            James Charles  INSTAGRAM           64202                 850   \n",
       "3          NikkieTutorials  INSTAGRAM               -                  68   \n",
       "4  D E S I • P E R K I N S  INSTAGRAM           39582                 143   \n",
       "\n",
       "   Reactions, Comments & Shares  Post interaction rate Reach per post  \\\n",
       "0                            43               0.000010              -   \n",
       "1                         19675               0.000346              -   \n",
       "2                         65052               0.003190              -   \n",
       "3                            68               0.000004              -   \n",
       "4                         39725               0.009223              -   \n",
       "\n",
       "  Interactions per impression/view Post comments negative sentiment share  \\\n",
       "0                                -                                      -   \n",
       "1                                -                                      -   \n",
       "2                                -                                      -   \n",
       "3                                -                                      -   \n",
       "4                                -                                      -   \n",
       "\n",
       "   Engagement Click-through rate (CTR) Impressions/views per post  \\\n",
       "0    0.000010                        -                          -   \n",
       "1    0.000346                        -                          -   \n",
       "2    0.003190                        -                          -   \n",
       "3    0.000004                        -                          -   \n",
       "4    0.009223                        -                          -   \n",
       "\n",
       "          Message-ID  Profile-ID                                         Link  \\\n",
       "0  18389368468128400    14816972     https://www.instagram.com/p/DHCJZctyBNA/   \n",
       "1  18059133502858760    44222792  https://www.instagram.com/reel/DHBXjsPz0dr/   \n",
       "2  18051092827997980  2153680783     https://www.instagram.com/p/DG_RQOBvDQg/   \n",
       "3  18056592619896872    14081467  https://www.instagram.com/reel/DG_OQHrIKXU/   \n",
       "4  17943043904842810     3582115  https://www.instagram.com/reel/DG-8MgiJ57N/   \n",
       "\n",
       "   External Links  \n",
       "0             NaN  \n",
       "1             NaN  \n",
       "2             NaN  \n",
       "3             NaN  \n",
       "4             NaN  "
      ]
     },
     "execution_count": 133,
     "metadata": {},
     "output_type": "execute_result"
    }
   ],
   "source": [
    "# Combine all data into one dataframe\n",
    "merged_df = pd.concat([Mega, Macro], ignore_index=True)\n",
    "merged_df.head()"
   ]
  },
  {
   "cell_type": "code",
   "execution_count": 134,
   "metadata": {},
   "outputs": [
    {
     "name": "stdout",
     "output_type": "stream",
     "text": [
      "(10550, 18)\n"
     ]
    }
   ],
   "source": [
    "merged_df = pd.concat([merged_df, Micro], ignore_index=True)\n",
    "print(merged_df.shape)"
   ]
  },
  {
   "cell_type": "markdown",
   "metadata": {},
   "source": [
    "## Text Preprocessing"
   ]
  },
  {
   "cell_type": "code",
   "execution_count": 135,
   "metadata": {},
   "outputs": [],
   "source": [
    "## Text Preprocessing Function\n",
    "def clean_text(text):\n",
    "    text = text.lower()\n",
    "    text = re.sub(r\"http\\S+|www\\S+|https\\S+\", '', text, flags=re.MULTILINE)  # Remove URLs\n",
    "    text = re.sub(r'\\@\\w+|\\#', '', text)  # Remove mentions and hashtags\n",
    "    text = re.sub(r'[^a-zA-Z0-9\\s]', '', text)  # Remove special characters\n",
    "    return text\n",
    "\n",
    "# Apply cleaning function on the 'Message' column and store the result in 'clean_message'\n",
    "merged_df['clean_message'] = merged_df['Message'].astype(str).apply(clean_text)"
   ]
  },
  {
   "cell_type": "code",
   "execution_count": 136,
   "metadata": {},
   "outputs": [],
   "source": [
    "## Identify Influencer Mentions in Messages ###\n",
    "# Define the influencers list with each name as a separate element\n",
    "\n",
    "Mega = [\n",
    "    # Mega\n",
    "    \"patrickstarrr\", \"HUDA BEAUTY\", \"James Charles\", \"NikkieTutorials\",\n",
    "    \"D E S I • P E R K I N S\", \"Jackie Asamoah\", \"??Manny Gutierrez\",\n",
    "    \"Jeffree Star\", \"michellephan\", \"Tati Westbrook\", \"Jackie Aina\", \"?? ??\",\n",
    "    \"Huda\", \"wishfulskin\", \"Huda Kattan\", \"FORVR MOOD\", \"HUDA KATTAN\", \"DEZI\",\n",
    "    \"Drew Barrymore\"]\n",
    "    # Macro\n",
    "Macro = [\n",
    "    \"Violette\", \"KATIE JANE HUGHES\",\n",
    "    \"MERTON MUAREMI | Melbourne Makeup Artist ????\", \"C H E R  W E B B\",\n",
    "    \"Andreea Ali\", \"James Molloy Makeup Artist\", \"Priscilla Ono\",\n",
    "    \"NAM VO✨GLOW⚡️SKIN??\", \"Makeup Artist Sofia Schwarzkopf-Tilbury ❤️\",\n",
    "    \"Sofia Schwarzkopf-Tilbury ❤️\"]\n",
    "Micro = [\n",
    "    \"MERTON MUAREMI | Melbourne Makeup Artist ????\", \"Leah Baines\",\n",
    "    \"Beau Nelson\", \"DANA VAUGHAN | MAKEUP ARTIST & CONTENT CREATOR\",\n",
    "    \"Isabella Quinn Makeup Artist\", \"DANA VAUGHAN | MELBOURNE MAKEUP ARTIST\",\n",
    "    \"Melbourne Makeup Artist ???? MERTON MUAREMI\",\n",
    "    \"MERTON MUAREMI | Melbourne Makeup Artist\", \"DANA VAUGHAN | MAKEUP ARTIST\",\n",
    "    \"MERTON MUAREMI™️ | Melbourne Makeup Artist\", \"MERTON MUAREMI™️\",\n",
    "    \"MERTON MUAREMI™️ | Makeup Artist\", \"Leah Baines | Makeup Artist\",\n",
    "    \"D A N A\", \"MERTON MUAREMI™️ Makeup Artist Melbourne ????\",\n",
    "    \"Parabolix Lighting\"\n",
    "]"
   ]
  },
  {
   "cell_type": "code",
   "execution_count": 137,
   "metadata": {},
   "outputs": [
    {
     "name": "stdout",
     "output_type": "stream",
     "text": [
      "influencer_category\n",
      "Mega     5000\n",
      "Macro    4880\n",
      "Micro     670\n",
      "Name: count, dtype: int64\n"
     ]
    }
   ],
   "source": [
    "### Detecting Unrealistic Beauty Content ###\n",
    "unrealistic_keywords = [\n",
    "      \"flawless\", \"porcelain\", \"airbrushed\", \"wrinkle-free\", \"even-toned\", \"radiant\", \"poreless\",\n",
    "    \"blemish-free\", \"glowing\", \"youthful\", \"perfect\", \"symmetrical\", \"sculpted\", \"lifted\",\n",
    "    \"snatched\", \"chiseled\", \"sharp\", \"contoured\", \"v-shaped\", \"button-like\", \"proportionate\",\n",
    "    \"botoxed\", \"hollywood\", \"aligned\", \"bright\", \"smooth\", \"unlined\", \"refined\", \"sculpted\",\n",
    "    \"plump\", \"hydrated\", \"full\", \"defined\", \"snatched\", \"chiseled\", \"no pores\", \"no wrinkles\",\n",
    "    \"glossy\", \"sensual\", \"flawlessly\", \"perfectly\", \"ideal\", \"zero fat\", \"no blemishes\", \n",
    "    \"pearly-white\", \"whitened\", \"voluminous\", \"youthful\", \"lifted\", \"no dark circles\", \n",
    "    \"glass skin\", \"no fine lines\", \"even skin tone\", \"no visible veins\", \"perfectly shaped\",\n",
    "    \"plumped\", \"smooth jawline\", \"always glowing\", \"never oily\", \"no visible pores\", \"no acne\",\n",
    "    \"no redness\", \"no discoloration\", \"bright eyes\", \"refined nose\", \"full lips\", \"poreless skin\"\n",
    "]\n",
    "\n",
    "def find_unrealistic(text):\n",
    "    found_keywords = [kw for kw in unrealistic_keywords if kw in text]\n",
    "    return \", \".join(found_keywords) if found_keywords else \"No unrealistic content\"\n",
    "\n",
    "def assign_influencer_category(profile):\n",
    "    profile_lower = str(profile).lower()  # Convert to string and lower-case\n",
    "    # Check if any mega influencer is mentioned\n",
    "    for influencers in Mega:\n",
    "        if influencers.lower() in profile_lower:\n",
    "            return \"Mega\"\n",
    "    # Check for midrange brands\n",
    "    for influencers in Macro:\n",
    "        if influencers.lower() in profile_lower:\n",
    "            return \"Macro\"\n",
    "    # Check for drugstore brands\n",
    "    for influencers in Micro:\n",
    "        if influencers.lower() in profile_lower:\n",
    "            return \"Micro\"\n",
    "    # If none match, return Unknown\n",
    "    return \"Unknown\"\n",
    "\n",
    "# Apply the function to create a new column in merged_df\n",
    "merged_df['influencer_category'] = merged_df['Profile'].apply(assign_influencer_category)\n",
    "\n",
    "# Optionally, display the counts for each category\n",
    "print(merged_df['influencer_category'].value_counts())\n",
    "\n",
    "merged_df['unrealistic_content'] = merged_df['clean_message'].apply(find_unrealistic)"
   ]
  },
  {
   "cell_type": "code",
   "execution_count": 138,
   "metadata": {},
   "outputs": [
    {
     "data": {
      "application/vnd.microsoft.datawrangler.viewer.v0+json": {
       "columns": [
        {
         "name": "index",
         "rawType": "int64",
         "type": "integer"
        },
        {
         "name": "Date",
         "rawType": "datetime64[ns]",
         "type": "datetime"
        },
        {
         "name": "Message",
         "rawType": "object",
         "type": "string"
        },
        {
         "name": "Profile",
         "rawType": "object",
         "type": "string"
        },
        {
         "name": "Network",
         "rawType": "object",
         "type": "string"
        },
        {
         "name": "Number of Likes",
         "rawType": "object",
         "type": "unknown"
        },
        {
         "name": "Number of comments",
         "rawType": "int64",
         "type": "integer"
        },
        {
         "name": "Reactions, Comments & Shares",
         "rawType": "int64",
         "type": "integer"
        },
        {
         "name": "Post interaction rate",
         "rawType": "object",
         "type": "unknown"
        },
        {
         "name": "Reach per post",
         "rawType": "object",
         "type": "string"
        },
        {
         "name": "Interactions per impression/view",
         "rawType": "object",
         "type": "string"
        },
        {
         "name": "Post comments negative sentiment share",
         "rawType": "object",
         "type": "string"
        },
        {
         "name": "Engagement",
         "rawType": "object",
         "type": "unknown"
        },
        {
         "name": "Click-through rate (CTR)",
         "rawType": "object",
         "type": "string"
        },
        {
         "name": "Impressions/views per post",
         "rawType": "object",
         "type": "string"
        },
        {
         "name": "Message-ID",
         "rawType": "int64",
         "type": "integer"
        },
        {
         "name": "Profile-ID",
         "rawType": "int64",
         "type": "integer"
        },
        {
         "name": "Link",
         "rawType": "object",
         "type": "string"
        },
        {
         "name": "External Links",
         "rawType": "float64",
         "type": "float"
        },
        {
         "name": "clean_message",
         "rawType": "object",
         "type": "string"
        },
        {
         "name": "influencer_category",
         "rawType": "object",
         "type": "string"
        },
        {
         "name": "unrealistic_content",
         "rawType": "object",
         "type": "string"
        }
       ],
       "conversionMethod": "pd.DataFrame",
       "ref": "6667bf37-eb6a-4147-bc1f-ced454a3fa69",
       "rows": [
        [
         "0",
         "2025-03-10 21:15:03",
         "Obsessed with this cut and style???????? Thank you mauricecornell ????????????\n.\nColor by the amazing tonywonderhandsss\nMakeup by Meeee",
         "patrickstarrr",
         "INSTAGRAM",
         "-",
         "43",
         "43",
         "9.929931631266076e-06",
         "-",
         "-",
         "-",
         "9.929931631266076e-06",
         "-",
         "-",
         "18389368468128400",
         "14816972",
         "https://www.instagram.com/p/DHCJZctyBNA/",
         null,
         "obsessed with this cut and style thank you mauricecornell \n\ncolor by the amazing tonywonderhandsss\nmakeup by meeee",
         "Mega",
         "No unrealistic content"
        ],
        [
         "1",
         "2025-03-10 14:00:09",
         "Have you guys guessed yet? Reveal happening March 18th.",
         "HUDA BEAUTY",
         "INSTAGRAM",
         "17983",
         "1692",
         "19675",
         "0.0003462664147219914",
         "-",
         "-",
         "-",
         "0.0003462664147219914",
         "-",
         "-",
         "18059133502858760",
         "44222792",
         "https://www.instagram.com/reel/DHBXjsPz0dr/",
         null,
         "have you guys guessed yet reveal happening march 18th",
         "Mega",
         "No unrealistic content"
        ],
        [
         "2",
         "2025-03-09 18:25:59",
         "somewhere over the rainbow ??",
         "James Charles",
         "INSTAGRAM",
         "64202",
         "850",
         "65052",
         "0.003190149630826932",
         "-",
         "-",
         "-",
         "0.003190149630826932",
         "-",
         "-",
         "18051092827997980",
         "2153680783",
         "https://www.instagram.com/p/DG_RQOBvDQg/",
         null,
         "somewhere over the rainbow ",
         "Mega",
         "No unrealistic content"
        ],
        [
         "3",
         "2025-03-09 18:03:44",
         "donni.davy challenged me to see if the halfmagicbeauty Crystal Butter Lip Balms really ARE the sparkliest, dreamiest balms WITHOUT the grit ??✨ let’s find out together! ?? ( A D )",
         "NikkieTutorials",
         "INSTAGRAM",
         "-",
         "68",
         "68",
         "3.540788477357855e-06",
         "-",
         "-",
         "-",
         "3.540788477357855e-06",
         "-",
         "-",
         "18056592619896872",
         "14081467",
         "https://www.instagram.com/reel/DG_OQHrIKXU/",
         null,
         "donnidavy challenged me to see if the halfmagicbeauty crystal butter lip balms really are the sparkliest dreamiest balms without the grit  lets find out together   a d ",
         "Mega",
         "No unrealistic content"
        ],
        [
         "4",
         "2025-03-09 15:24:27",
         "Where I wanna be?????? The full circle of it all.",
         "D E S I • P E R K I N S",
         "INSTAGRAM",
         "39582",
         "143",
         "39725",
         "0.009222719208190379",
         "-",
         "-",
         "-",
         "0.009222719208190379",
         "-",
         "-",
         "17943043904842810",
         "3582115",
         "https://www.instagram.com/reel/DG-8MgiJ57N/",
         null,
         "where i wanna be the full circle of it all",
         "Mega",
         "full"
        ]
       ],
       "shape": {
        "columns": 21,
        "rows": 5
       }
      },
      "text/html": [
       "<div>\n",
       "<style scoped>\n",
       "    .dataframe tbody tr th:only-of-type {\n",
       "        vertical-align: middle;\n",
       "    }\n",
       "\n",
       "    .dataframe tbody tr th {\n",
       "        vertical-align: top;\n",
       "    }\n",
       "\n",
       "    .dataframe thead th {\n",
       "        text-align: right;\n",
       "    }\n",
       "</style>\n",
       "<table border=\"1\" class=\"dataframe\">\n",
       "  <thead>\n",
       "    <tr style=\"text-align: right;\">\n",
       "      <th></th>\n",
       "      <th>Date</th>\n",
       "      <th>Message</th>\n",
       "      <th>Profile</th>\n",
       "      <th>Network</th>\n",
       "      <th>Number of Likes</th>\n",
       "      <th>Number of comments</th>\n",
       "      <th>Reactions, Comments &amp; Shares</th>\n",
       "      <th>Post interaction rate</th>\n",
       "      <th>Reach per post</th>\n",
       "      <th>Interactions per impression/view</th>\n",
       "      <th>...</th>\n",
       "      <th>Engagement</th>\n",
       "      <th>Click-through rate (CTR)</th>\n",
       "      <th>Impressions/views per post</th>\n",
       "      <th>Message-ID</th>\n",
       "      <th>Profile-ID</th>\n",
       "      <th>Link</th>\n",
       "      <th>External Links</th>\n",
       "      <th>clean_message</th>\n",
       "      <th>influencer_category</th>\n",
       "      <th>unrealistic_content</th>\n",
       "    </tr>\n",
       "  </thead>\n",
       "  <tbody>\n",
       "    <tr>\n",
       "      <th>0</th>\n",
       "      <td>2025-03-10 21:15:03</td>\n",
       "      <td>Obsessed with this cut and style???????? Thank...</td>\n",
       "      <td>patrickstarrr</td>\n",
       "      <td>INSTAGRAM</td>\n",
       "      <td>-</td>\n",
       "      <td>43</td>\n",
       "      <td>43</td>\n",
       "      <td>0.00001</td>\n",
       "      <td>-</td>\n",
       "      <td>-</td>\n",
       "      <td>...</td>\n",
       "      <td>0.00001</td>\n",
       "      <td>-</td>\n",
       "      <td>-</td>\n",
       "      <td>18389368468128400</td>\n",
       "      <td>14816972</td>\n",
       "      <td>https://www.instagram.com/p/DHCJZctyBNA/</td>\n",
       "      <td>NaN</td>\n",
       "      <td>obsessed with this cut and style thank you mau...</td>\n",
       "      <td>Mega</td>\n",
       "      <td>No unrealistic content</td>\n",
       "    </tr>\n",
       "    <tr>\n",
       "      <th>1</th>\n",
       "      <td>2025-03-10 14:00:09</td>\n",
       "      <td>Have you guys guessed yet? Reveal happening Ma...</td>\n",
       "      <td>HUDA BEAUTY</td>\n",
       "      <td>INSTAGRAM</td>\n",
       "      <td>17983</td>\n",
       "      <td>1692</td>\n",
       "      <td>19675</td>\n",
       "      <td>0.000346</td>\n",
       "      <td>-</td>\n",
       "      <td>-</td>\n",
       "      <td>...</td>\n",
       "      <td>0.000346</td>\n",
       "      <td>-</td>\n",
       "      <td>-</td>\n",
       "      <td>18059133502858760</td>\n",
       "      <td>44222792</td>\n",
       "      <td>https://www.instagram.com/reel/DHBXjsPz0dr/</td>\n",
       "      <td>NaN</td>\n",
       "      <td>have you guys guessed yet reveal happening mar...</td>\n",
       "      <td>Mega</td>\n",
       "      <td>No unrealistic content</td>\n",
       "    </tr>\n",
       "    <tr>\n",
       "      <th>2</th>\n",
       "      <td>2025-03-09 18:25:59</td>\n",
       "      <td>somewhere over the rainbow ??</td>\n",
       "      <td>James Charles</td>\n",
       "      <td>INSTAGRAM</td>\n",
       "      <td>64202</td>\n",
       "      <td>850</td>\n",
       "      <td>65052</td>\n",
       "      <td>0.00319</td>\n",
       "      <td>-</td>\n",
       "      <td>-</td>\n",
       "      <td>...</td>\n",
       "      <td>0.00319</td>\n",
       "      <td>-</td>\n",
       "      <td>-</td>\n",
       "      <td>18051092827997980</td>\n",
       "      <td>2153680783</td>\n",
       "      <td>https://www.instagram.com/p/DG_RQOBvDQg/</td>\n",
       "      <td>NaN</td>\n",
       "      <td>somewhere over the rainbow</td>\n",
       "      <td>Mega</td>\n",
       "      <td>No unrealistic content</td>\n",
       "    </tr>\n",
       "    <tr>\n",
       "      <th>3</th>\n",
       "      <td>2025-03-09 18:03:44</td>\n",
       "      <td>donni.davy challenged me to see if the halfmag...</td>\n",
       "      <td>NikkieTutorials</td>\n",
       "      <td>INSTAGRAM</td>\n",
       "      <td>-</td>\n",
       "      <td>68</td>\n",
       "      <td>68</td>\n",
       "      <td>0.000004</td>\n",
       "      <td>-</td>\n",
       "      <td>-</td>\n",
       "      <td>...</td>\n",
       "      <td>0.000004</td>\n",
       "      <td>-</td>\n",
       "      <td>-</td>\n",
       "      <td>18056592619896872</td>\n",
       "      <td>14081467</td>\n",
       "      <td>https://www.instagram.com/reel/DG_OQHrIKXU/</td>\n",
       "      <td>NaN</td>\n",
       "      <td>donnidavy challenged me to see if the halfmagi...</td>\n",
       "      <td>Mega</td>\n",
       "      <td>No unrealistic content</td>\n",
       "    </tr>\n",
       "    <tr>\n",
       "      <th>4</th>\n",
       "      <td>2025-03-09 15:24:27</td>\n",
       "      <td>Where I wanna be?????? The full circle of it all.</td>\n",
       "      <td>D E S I • P E R K I N S</td>\n",
       "      <td>INSTAGRAM</td>\n",
       "      <td>39582</td>\n",
       "      <td>143</td>\n",
       "      <td>39725</td>\n",
       "      <td>0.009223</td>\n",
       "      <td>-</td>\n",
       "      <td>-</td>\n",
       "      <td>...</td>\n",
       "      <td>0.009223</td>\n",
       "      <td>-</td>\n",
       "      <td>-</td>\n",
       "      <td>17943043904842810</td>\n",
       "      <td>3582115</td>\n",
       "      <td>https://www.instagram.com/reel/DG-8MgiJ57N/</td>\n",
       "      <td>NaN</td>\n",
       "      <td>where i wanna be the full circle of it all</td>\n",
       "      <td>Mega</td>\n",
       "      <td>full</td>\n",
       "    </tr>\n",
       "  </tbody>\n",
       "</table>\n",
       "<p>5 rows × 21 columns</p>\n",
       "</div>"
      ],
      "text/plain": [
       "                 Date                                            Message  \\\n",
       "0 2025-03-10 21:15:03  Obsessed with this cut and style???????? Thank...   \n",
       "1 2025-03-10 14:00:09  Have you guys guessed yet? Reveal happening Ma...   \n",
       "2 2025-03-09 18:25:59                      somewhere over the rainbow ??   \n",
       "3 2025-03-09 18:03:44  donni.davy challenged me to see if the halfmag...   \n",
       "4 2025-03-09 15:24:27  Where I wanna be?????? The full circle of it all.   \n",
       "\n",
       "                   Profile    Network Number of Likes  Number of comments  \\\n",
       "0            patrickstarrr  INSTAGRAM               -                  43   \n",
       "1              HUDA BEAUTY  INSTAGRAM           17983                1692   \n",
       "2            James Charles  INSTAGRAM           64202                 850   \n",
       "3          NikkieTutorials  INSTAGRAM               -                  68   \n",
       "4  D E S I • P E R K I N S  INSTAGRAM           39582                 143   \n",
       "\n",
       "   Reactions, Comments & Shares Post interaction rate Reach per post  \\\n",
       "0                            43               0.00001              -   \n",
       "1                         19675              0.000346              -   \n",
       "2                         65052               0.00319              -   \n",
       "3                            68              0.000004              -   \n",
       "4                         39725              0.009223              -   \n",
       "\n",
       "  Interactions per impression/view  ... Engagement Click-through rate (CTR)  \\\n",
       "0                                -  ...    0.00001                        -   \n",
       "1                                -  ...   0.000346                        -   \n",
       "2                                -  ...    0.00319                        -   \n",
       "3                                -  ...   0.000004                        -   \n",
       "4                                -  ...   0.009223                        -   \n",
       "\n",
       "  Impressions/views per post         Message-ID  Profile-ID  \\\n",
       "0                          -  18389368468128400    14816972   \n",
       "1                          -  18059133502858760    44222792   \n",
       "2                          -  18051092827997980  2153680783   \n",
       "3                          -  18056592619896872    14081467   \n",
       "4                          -  17943043904842810     3582115   \n",
       "\n",
       "                                          Link External Links  \\\n",
       "0     https://www.instagram.com/p/DHCJZctyBNA/            NaN   \n",
       "1  https://www.instagram.com/reel/DHBXjsPz0dr/            NaN   \n",
       "2     https://www.instagram.com/p/DG_RQOBvDQg/            NaN   \n",
       "3  https://www.instagram.com/reel/DG_OQHrIKXU/            NaN   \n",
       "4  https://www.instagram.com/reel/DG-8MgiJ57N/            NaN   \n",
       "\n",
       "                                       clean_message influencer_category  \\\n",
       "0  obsessed with this cut and style thank you mau...                Mega   \n",
       "1  have you guys guessed yet reveal happening mar...                Mega   \n",
       "2                        somewhere over the rainbow                 Mega   \n",
       "3  donnidavy challenged me to see if the halfmagi...                Mega   \n",
       "4         where i wanna be the full circle of it all                Mega   \n",
       "\n",
       "      unrealistic_content  \n",
       "0  No unrealistic content  \n",
       "1  No unrealistic content  \n",
       "2  No unrealistic content  \n",
       "3  No unrealistic content  \n",
       "4                    full  \n",
       "\n",
       "[5 rows x 21 columns]"
      ]
     },
     "execution_count": 138,
     "metadata": {},
     "output_type": "execute_result"
    }
   ],
   "source": [
    "merged_df.head()"
   ]
  },
  {
   "cell_type": "code",
   "execution_count": 139,
   "metadata": {},
   "outputs": [],
   "source": [
    "# Function to check if a message contains unrealistic beauty standards and return 0 or 1\n",
    "def detect_unrealistic_content(text):\n",
    "    text_lower = text.lower()\n",
    "    \n",
    "    # Check if any unrealistic phrase exists in the message\n",
    "    for phrase in unrealistic_keywords:\n",
    "        if phrase in text_lower:\n",
    "            return 1  # Match found, mark as unrealistic\n",
    "    \n",
    "    # Check if any unrealistic keyword exists in the message\n",
    "    for word in unrealistic_keywords:\n",
    "        if word in text_lower:\n",
    "            return 1  # Match found, mark as unrealistic\n",
    "    \n",
    "    return 0  # No match found\n",
    "\n",
    "# Apply the function to your DataFrame\n",
    "# For example, if using the df_LUXURY DataFrame which has a 'clean_message' column:\n",
    "merged_df['unrealistic_beauty'] = merged_df['clean_message'].apply(detect_unrealistic_content)\n"
   ]
  },
  {
   "cell_type": "code",
   "execution_count": 140,
   "metadata": {},
   "outputs": [
    {
     "name": "stdout",
     "output_type": "stream",
     "text": [
      "unrealistic_beauty\n",
      "0    8115\n",
      "1    2435\n",
      "Name: count, dtype: int64\n",
      "10550\n"
     ]
    }
   ],
   "source": [
    "counts = merged_df['unrealistic_beauty'].value_counts()\n",
    "print(counts)\n",
    "total_sum = counts.sum()\n",
    "print(total_sum)"
   ]
  },
  {
   "cell_type": "code",
   "execution_count": 141,
   "metadata": {},
   "outputs": [
    {
     "data": {
      "image/png": "[encoded data removed]",
      "text/plain": [
       "<Figure size 1000x500 with 1 Axes>"
      ]
     },
     "metadata": {},
     "output_type": "display_data"
    }
   ],
   "source": [
    "# Filter to posts flagged as having unrealistic beauty content (assuming unrealistic_beauty is binary)\n",
    "influencer_unrealistic_counts = (\n",
    "    merged_df[merged_df['unrealistic_beauty'] == 1]['influencer_category']\n",
    "    .value_counts()\n",
    ")\n",
    "\n",
    "# Plotting the results\n",
    "plt.figure(figsize=(10, 5))\n",
    "sns.barplot(x=influencer_unrealistic_counts.index, y=influencer_unrealistic_counts.values)\n",
    "plt.xlabel(\"Influencer Category\")\n",
    "plt.ylabel(\"Number of Posts with Unrealistic Beauty Content\")\n",
    "plt.title(\"Unrealistic Beauty Content by Influencer Category\")\n",
    "plt.xticks(rotation=45)\n",
    "plt.show()"
   ]
  },
  {
   "cell_type": "markdown",
   "metadata": {},
   "source": [
    "# Hypothesis 2: Influencer content style (unrealistic vs realistic) influences engagement levels on Instagram.\n",
    "- H₀​:µengagement, unrealistic content ​= µ engagement, realistic content​ \n",
    "- HA:µengagement, unrealistic content ≠ µengagement, realistic content\n",
    "\n"
   ]
  },
  {
   "cell_type": "markdown",
   "metadata": {},
   "source": [
    "### Data Preparation"
   ]
  },
  {
   "cell_type": "code",
   "execution_count": 142,
   "metadata": {},
   "outputs": [],
   "source": [
    "# Select relevant columns for engagement metrics (likes, comments, reactions, interaction rate)\n",
    "engagement_metrics = ['Number of Likes', 'Number of comments']\n",
    "\n",
    "# Ensure all engagement metrics are numeric\n",
    "merged_df[engagement_metrics] = merged_df[engagement_metrics].apply(pd.to_numeric, errors='coerce')\n",
    "\n",
    "# Drop rows with missing values in engagement metrics\n",
    "merged_df_cleaned = merged_df.dropna(subset=engagement_metrics)\n",
    "\n",
    "# Filter engagement data based on unrealistic beauty content (0 = realistic, 1 = unrealistic)\n",
    "realistic_engagement = merged_df_cleaned[merged_df_cleaned['unrealistic_beauty'] == 0][engagement_metrics]\n",
    "unrealistic_engagement = merged_df_cleaned[merged_df_cleaned['unrealistic_beauty'] == 1][engagement_metrics]\n"
   ]
  },
  {
   "cell_type": "markdown",
   "metadata": {},
   "source": [
    "## Assumption testing : Kolmogorov-Smirnov Test"
   ]
  },
  {
   "cell_type": "markdown",
   "metadata": {},
   "source": [
    "\n",
    "The Kolmogorov-Smirnov (KS) Test is a non-parametric statistical test used to compare the entire distribution of two independent samples. \n",
    "The purpose of the KS Test in our analysis is to check if the distributions of engagement metrics (Number of Likes and Number of Comments) are similar between Realistic and Unrealistic Beauty Content."
   ]
  },
  {
   "cell_type": "markdown",
   "metadata": {},
   "source": [
    "### Step 1: Visualize Distributions for Each Metric\n",
    "Visualize the distributions of the engagement metrics for both groups"
   ]
  },
  {
   "cell_type": "code",
   "execution_count": 143,
   "metadata": {},
   "outputs": [
    {
     "name": "stderr",
     "output_type": "stream",
     "text": [
      "/var/folders/np/8w3hzyv17xx_tndd85ljgx_w0000gn/T/ipykernel_2547/1392539458.py:3: FutureWarning: \n",
      "\n",
      "`shade` is now deprecated in favor of `fill`; setting `fill=True`.\n",
      "This will become an error in seaborn v0.14.0; please update your code.\n",
      "\n",
      "  sns.kdeplot(realistic_engagement[metric].dropna(), label='Realistic Content', shade=True)\n",
      "/var/folders/np/8w3hzyv17xx_tndd85ljgx_w0000gn/T/ipykernel_2547/1392539458.py:4: FutureWarning: \n",
      "\n",
      "`shade` is now deprecated in favor of `fill`; setting `fill=True`.\n",
      "This will become an error in seaborn v0.14.0; please update your code.\n",
      "\n",
      "  sns.kdeplot(unrealistic_engagement[metric].dropna(), label='Unrealistic Content', shade=True)\n"
     ]
    },
    {
     "data": {
      "image/png": "[encoded data removed]",
      "text/plain": [
       "<Figure size 1000x500 with 1 Axes>"
      ]
     },
     "metadata": {},
     "output_type": "display_data"
    },
    {
     "name": "stderr",
     "output_type": "stream",
     "text": [
      "/var/folders/np/8w3hzyv17xx_tndd85ljgx_w0000gn/T/ipykernel_2547/1392539458.py:3: FutureWarning: \n",
      "\n",
      "`shade` is now deprecated in favor of `fill`; setting `fill=True`.\n",
      "This will become an error in seaborn v0.14.0; please update your code.\n",
      "\n",
      "  sns.kdeplot(realistic_engagement[metric].dropna(), label='Realistic Content', shade=True)\n",
      "/var/folders/np/8w3hzyv17xx_tndd85ljgx_w0000gn/T/ipykernel_2547/1392539458.py:4: FutureWarning: \n",
      "\n",
      "`shade` is now deprecated in favor of `fill`; setting `fill=True`.\n",
      "This will become an error in seaborn v0.14.0; please update your code.\n",
      "\n",
      "  sns.kdeplot(unrealistic_engagement[metric].dropna(), label='Unrealistic Content', shade=True)\n"
     ]
    },
    {
     "data": {
      "image/png": "[encoded data removed]",
      "text/plain": [
       "<Figure size 1000x500 with 1 Axes>"
      ]
     },
     "metadata": {},
     "output_type": "display_data"
    }
   ],
   "source": [
    "for metric in engagement_metrics:\n",
    "    plt.figure(figsize=(10, 5))\n",
    "    sns.kdeplot(realistic_engagement[metric].dropna(), label='Realistic Content', shade=True)\n",
    "    sns.kdeplot(unrealistic_engagement[metric].dropna(), label='Unrealistic Content', shade=True)\n",
    "    plt.title(f'Distribution Comparison: {metric}')\n",
    "    plt.xlabel(metric)\n",
    "    plt.ylabel('Density')\n",
    "    plt.legend()\n",
    "    plt.show()"
   ]
  },
  {
   "cell_type": "markdown",
   "metadata": {},
   "source": [
    "### Visualization explanation \n",
    "We use Kernel Density Estimation (KDE) plots, which estimate the probability density function of the variables.\n",
    "\n",
    "1. Number of Likes:\n",
    "- For Realistic Content, the density is concentrated around low values, with a sharp peak near 0, suggesting that most of the posts have relatively few likes. \n",
    "- The Unrealistic Content distribution also shows a similar peak but is slightly different in shape and lower in density.\n",
    "\n",
    "Both distributions are highly skewed to the right, with Realistic Content showing a higher concentration at lower values of engagement compared to Unrealistic Content.\n",
    "\n",
    "2. Number of Comments:\n",
    "- Realistic Content has a higher concentration of comments at lower values, indicating fewer comments in general.\n",
    "- Unrealistic Content also follows a similar pattern, but with a slightly different density and distribution shape.\n",
    "\n",
    "Both distributions are a right skew, meaning that while most content gets fewer comments, there are occasional posts that receive a much larger number of comments.\n",
    "\n"
   ]
  },
  {
   "cell_type": "markdown",
   "metadata": {},
   "source": [
    "### Step 2: Perform Kolmogorov-Smirnov Test\n"
   ]
  },
  {
   "cell_type": "code",
   "execution_count": 144,
   "metadata": {},
   "outputs": [
    {
     "name": "stdout",
     "output_type": "stream",
     "text": [
      "\n",
      "Kolmogorov-Smirnov Test Results (Comparing Distributions):\n",
      "Number of Likes: D-statistic = 0.1833673842176259, p-value = 5.713150489526992e-47\n",
      "Number of comments: D-statistic = 0.14520809914568344, p-value = 1.4821447252787632e-29\n"
     ]
    }
   ],
   "source": [
    "distribution_tests = {}\n",
    "for metric in engagement_metrics:\n",
    "    real_data = realistic_engagement[metric].dropna()\n",
    "    unreal_data = unrealistic_engagement[metric].dropna()\n",
    "    \n",
    "    # Perform Kolmogorov-Smirnov Test for Two Independent Samples\n",
    "    distribution_tests[metric] = stats.ks_2samp(real_data, unreal_data)\n",
    "\n",
    "# Display the results of the Kolmogorov-Smirnov Test for each metric\n",
    "print(\"\\nKolmogorov-Smirnov Test Results (Comparing Distributions):\")\n",
    "for metric, result in distribution_tests.items():\n",
    "    print(f'{metric}: D-statistic = {result.statistic}, p-value = {result.pvalue}')\n"
   ]
  },
  {
   "cell_type": "markdown",
   "metadata": {},
   "source": [
    "### Result explanation\n",
    "\n",
    "D-statistic: A higher D-statistic indicates a larger difference between the distributions.\n",
    "\n",
    "- For Number of Likes, the D-statistic is 0.1834, meaning the two distributions are different by this amount.\n",
    "\n",
    "- For Number of Comments, the D-statistic is 0.1452, indicating a smaller but still significant difference.\n",
    "\n",
    "\n",
    "\n",
    "p-value: Whether the observed difference in distributions is statistically significant.\n",
    "\n",
    "- p-value < 0.05: Reject the null hypothesis (i.e., the two distributions are the same).\n",
    "\n",
    "- In both cases (Number of Likes and Number of Comments), the p-values are extremely small (far below 0.05). This means that the distributions of engagement metrics between Realistic and Unrealistic Content are significantly different.\n",
    "\n",
    "---- Insights -----\n",
    "\n",
    "Number of Likes and Number of Comments: \n",
    "- Both metrics show that the distributions between Realistic and Unrealistic Beauty Content are significantly different.\n",
    "\n",
    "\n",
    "\n"
   ]
  },
  {
   "cell_type": "markdown",
   "metadata": {},
   "source": [
    "## Statistical Testing: Mann-Whitney U Test\n",
    "\n",
    "Since the Kolmogorov-Smirnov Test confirmed that the distributions are different, the Mann-Whitney U Test was used to compare the medians between the two groups."
   ]
  },
  {
   "cell_type": "code",
   "execution_count": 145,
   "metadata": {},
   "outputs": [
    {
     "name": "stdout",
     "output_type": "stream",
     "text": [
      "Number of Likes: U-statistic = 8632070.5, p-value = 1.0567386845123884e-48\n",
      "Number of comments: U-statistic = 8139358.0, p-value = 4.2646844129865486e-23\n"
     ]
    }
   ],
   "source": [
    "# Perform Mann-Whitney U Test on each engagement metric to compare realistic vs unrealistic content\n",
    "mann_whitney_tests = {}\n",
    "for metric in engagement_metrics:\n",
    "    real_data = realistic_engagement[metric]\n",
    "    unreal_data = unrealistic_engagement[metric]\n",
    "    mann_whitney_tests[metric] = stats.mannwhitneyu(real_data, unreal_data, alternative='two-sided')\n",
    "\n",
    "# Display the results of the Mann-Whitney U Test for each metric\n",
    "for metric, result in mann_whitney_tests.items():\n",
    "    print(f'{metric}: U-statistic = {result.statistic}, p-value = {result.pvalue}')\n",
    "    \n",
    "# Based on p-values, we will determine if there is a significant difference (p < 0.05) between the engagement levels for realistic and unrealistic content.\n"
   ]
  },
  {
   "cell_type": "markdown",
   "metadata": {},
   "source": [
    "### Result explantation\n",
    "\n",
    "- The p-values are extremely low, indicating that the two groups (Realistic vs. Unrealistic Content) have significantly different engagement levels.\n",
    "\n",
    "- This confirms that the type of beauty content (realistic vs. unrealistic) has a statistically significant impact on Number of Likes and Number of Comments.\n"
   ]
  },
  {
   "cell_type": "code",
   "execution_count": 146,
   "metadata": {},
   "outputs": [
    {
     "name": "stderr",
     "output_type": "stream",
     "text": [
      "/var/folders/np/8w3hzyv17xx_tndd85ljgx_w0000gn/T/ipykernel_2547/532166855.py:21: FutureWarning: \n",
      "\n",
      "Passing `palette` without assigning `hue` is deprecated and will be removed in v0.14.0. Assign the `x` variable to `hue` and set `legend=False` for the same effect.\n",
      "\n",
      "  sns.barplot(x='Content Type', y='Engagement', data=mean_data, palette=\"Blues_d\")\n",
      "/var/folders/np/8w3hzyv17xx_tndd85ljgx_w0000gn/T/ipykernel_2547/532166855.py:21: FutureWarning: \n",
      "\n",
      "Passing `palette` without assigning `hue` is deprecated and will be removed in v0.14.0. Assign the `x` variable to `hue` and set `legend=False` for the same effect.\n",
      "\n",
      "  sns.barplot(x='Content Type', y='Engagement', data=mean_data, palette=\"Blues_d\")\n"
     ]
    },
    {
     "data": {
      "image/png": "[encoded data removed]",
      "text/plain": [
       "<Figure size 1200x800 with 2 Axes>"
      ]
     },
     "metadata": {},
     "output_type": "display_data"
    }
   ],
   "source": [
    "# Define engagement metrics to plot\n",
    "engagement_metrics = ['Number of Likes', 'Number of comments']\n",
    "\n",
    "# Create a figure to plot\n",
    "plt.figure(figsize=(12, 8))\n",
    "\n",
    "# Loop through each engagement metric and create bar charts\n",
    "for idx, metric in enumerate(engagement_metrics, 1):\n",
    "    plt.subplot(2, 2, idx)\n",
    "    \n",
    "    # Aggregate data: calculate the mean for each content type (Realistic and Unrealistic)\n",
    "    mean_data = pd.DataFrame({\n",
    "        'Content Type': ['Realistic', 'Unrealistic'],\n",
    "        'Engagement': [\n",
    "            realistic_engagement[metric].mean(), \n",
    "            unrealistic_engagement[metric].mean()\n",
    "        ]\n",
    "    })\n",
    "    \n",
    "    # Create a bar plot for the given metric for both realistic and unrealistic content\n",
    "    sns.barplot(x='Content Type', y='Engagement', data=mean_data, palette=\"Blues_d\")\n",
    "    \n",
    "    # Set title for each subplot\n",
    "    plt.title(f'{metric} Mean for Realistic vs Unrealistic Content')\n",
    "\n",
    "# Adjust layout and display the plot\n",
    "plt.tight_layout()\n",
    "plt.show()\n"
   ]
  },
  {
   "cell_type": "markdown",
   "metadata": {},
   "source": [
    "### Visualization explanation \n",
    "\n",
    "Number of Likes:\n",
    "The bar for Realistic Content is much higher than the bar for Unrealistic Content, indicating that Realistic Content receives significantly more likes than Unrealistic Content.\n",
    "\n",
    "Number of Comments:\n",
    "Similarly, the bar for Realistic Content is much higher than for Unrealistic Content in the Number of Comments chart as well, suggesting that Realistic Content also generates more comments compared to Unrealistic Content.\n",
    "\n",
    "--- insights ---\n",
    "- The Realistic Content consistently has higher engagement across both metrics (likes and comments).\n",
    "\n",
    "- The Unrealistic Content shows a clear contrast, receiving significantly fewer likes and comments on average.\n"
   ]
  },
  {
   "cell_type": "markdown",
   "metadata": {},
   "source": [
    "# Conclusion:\n",
    "\n",
    "Hypothesis 2: Influencer content style (unrealistic vs realistic) influences engagement levels on Instagram.\n",
    "- H₀​:µengagement, unrealistic content ​= µ engagement, realistic content​ \n",
    "- HA:µengagement, unrealistic content ≠ µengagement, realistic content\n",
    "\n",
    "\n",
    "Since the p-values for both tests (KS Test and Mann-Whitney U Test) are extremely small (far below 0.05), we reject the null hypothesis.\n",
    "\n",
    "This means that the mean engagement for Unrealistic Content is not equal to the mean engagement for Realistic Content. There is a statistically significant difference in engagement levels between the two types of content."
   ]
  }
 ],
 "metadata": {
  "kernelspec": {
   "display_name": "base",
   "language": "python",
   "name": "python3"
  },
  "language_info": {
   "codemirror_mode": {
    "name": "ipython",
    "version": 3
   },
   "file_extension": ".py",
   "mimetype": "text/x-python",
   "name": "python",
   "nbconvert_exporter": "python",
   "pygments_lexer": "ipython3",
   "version": "3.12.2"
  }
 },
 "nbformat": 4,
 "nbformat_minor": 2
}
